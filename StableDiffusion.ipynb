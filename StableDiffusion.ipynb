{
  "nbformat": 4,
  "nbformat_minor": 0,
  "metadata": {
    "colab": {
      "provenance": [],
      "gpuType": "T4"
    },
    "kernelspec": {
      "name": "python3",
      "display_name": "Python 3"
    },
    "language_info": {
      "name": "python"
    },
    "accelerator": "GPU"
  },
  "cells": [
    {
      "cell_type": "markdown",
      "source": [
        "# Stable Diffusion"
      ],
      "metadata": {
        "id": "2DNnmkESBZoF"
      }
    },
    {
      "cell_type": "markdown",
      "source": [
        "<https://github.com/huggingface/diffusers>"
      ],
      "metadata": {
        "id": "0VeOFxPvDpZf"
      }
    },
    {
      "cell_type": "markdown",
      "source": [
        "## install modules"
      ],
      "metadata": {
        "id": "Kl5hwKuYDW4d"
      }
    },
    {
      "cell_type": "code",
      "source": [
        "!pip install --upgrade diffusers[torch]"
      ],
      "metadata": {
        "id": "d6fPeEFhDe1d"
      },
      "execution_count": null,
      "outputs": []
    },
    {
      "cell_type": "markdown",
      "source": [
        "## import modules"
      ],
      "metadata": {
        "id": "e6UZUZerEP7F"
      }
    },
    {
      "cell_type": "code",
      "source": [
        "from diffusers import DiffusionPipeline\n",
        "import torch\n",
        "import time"
      ],
      "metadata": {
        "id": "_UsNNZPTEODV"
      },
      "execution_count": null,
      "outputs": []
    },
    {
      "cell_type": "markdown",
      "source": [
        "## simple usage"
      ],
      "metadata": {
        "id": "VYGtpkfNEUpt"
      }
    },
    {
      "cell_type": "markdown",
      "source": [
        "initialize a pipeline"
      ],
      "metadata": {
        "id": "9zwCSoDUEk3k"
      }
    },
    {
      "cell_type": "code",
      "source": [
        "pipeline = DiffusionPipeline.from_pretrained(\"stable-diffusion-v1-5/stable-diffusion-v1-5\", torch_dtype=torch.float16)\n",
        "pipeline.to(\"cuda\")"
      ],
      "metadata": {
        "id": "84QT9gN2Efx1"
      },
      "execution_count": null,
      "outputs": []
    },
    {
      "cell_type": "markdown",
      "source": [
        "generate with prompt"
      ],
      "metadata": {
        "id": "B0xi6wslEqqE"
      }
    },
    {
      "cell_type": "code",
      "source": [
        "pipeline(\"An image of a squirrel in Picasso style\").images[0]"
      ],
      "metadata": {
        "id": "0fFwzyCCExXt"
      },
      "execution_count": null,
      "outputs": []
    },
    {
      "cell_type": "code",
      "source": [
        "def __time__(func, *args, **kwargs):\n",
        "    start = time.perf_counter()\n",
        "    result = func(*args, **kwargs)\n",
        "    end = time.perf_counter()\n",
        "    elapsed = end - start\n",
        "    print(f\"{end - start:.6f} [s]\")\n",
        "    return result"
      ],
      "metadata": {
        "id": "NSwKuAwuO_G9"
      },
      "execution_count": null,
      "outputs": []
    },
    {
      "cell_type": "code",
      "source": [
        "prompt = 'Coffee. Sunlight. A breeze through bossa nova. The world lingers here.' #@param {type:\"string\"}\n",
        "image = __time__(pipeline, prompt).images[0]\n",
        "image"
      ],
      "metadata": {
        "cellView": "form",
        "id": "m-TS96-YFJyd"
      },
      "execution_count": null,
      "outputs": []
    },
    {
      "cell_type": "code",
      "source": [
        "name = 'sunlight_cafe' #@param {type: \"string\"}\n",
        "image.save(f'{name}.png')"
      ],
      "metadata": {
        "cellView": "form",
        "id": "dh-tnh2oKxAU"
      },
      "execution_count": null,
      "outputs": []
    },
    {
      "cell_type": "markdown",
      "source": [
        "## Mojo"
      ],
      "metadata": {
        "id": "tWKrJrl9QxuV"
      }
    },
    {
      "cell_type": "markdown",
      "source": [
        "### install mojo"
      ],
      "metadata": {
        "id": "Yt0KKi1vQ0jF"
      }
    },
    {
      "cell_type": "code",
      "source": [
        "!pip install modular"
      ],
      "metadata": {
        "id": "5pkwUEmfQ2zW"
      },
      "execution_count": null,
      "outputs": []
    },
    {
      "cell_type": "code",
      "source": [
        "!mojo --version"
      ],
      "metadata": {
        "id": "CZkVFte3RWPN"
      },
      "execution_count": null,
      "outputs": []
    },
    {
      "cell_type": "markdown",
      "source": [
        "### write a new file"
      ],
      "metadata": {
        "id": "x2GqKr4sOhLl"
      }
    },
    {
      "cell_type": "code",
      "source": [
        "%%file import_test.mojo\n",
        "import sys\n",
        "from python import Python\n",
        "\n",
        "fn main() raises:\n",
        "    try:\n",
        "        var diffusers = Python.import_module('diffusers')\n",
        "        print(diffusers)\n",
        "        print(diffusers.DiffusionPipeline)\n",
        "    except:\n",
        "        sys.exit(1)\n"
      ],
      "metadata": {
        "id": "mZrzqMGsRlnU"
      },
      "execution_count": null,
      "outputs": []
    },
    {
      "cell_type": "code",
      "source": [
        "!mojo import_test.mojo"
      ],
      "metadata": {
        "id": "tPdv0s37PFj8"
      },
      "execution_count": null,
      "outputs": []
    },
    {
      "cell_type": "code",
      "source": [
        "%%file sd.mojo\n",
        "import time\n",
        "import sys\n",
        "from python import Python\n",
        "\n",
        "fn main() raises:\n",
        "    try:\n",
        "        var torch = Python.import_module('torch')\n",
        "        var diffusers = Python.import_module('diffusers')\n",
        "        var pipeline = diffusers.DiffusionPipeline.from_pretrained(\"stable-diffusion-v1-5/stable-diffusion-v1-5\", torch_dtype=torch.float16)\n",
        "        pipeline.to(\"cuda\")\n",
        "\n",
        "        var prompt = input('prompt > ')\n",
        "\n",
        "        var start = time.monotonic()\n",
        "        var image = pipeline(prompt).images[0]\n",
        "        var end = time.monotonic()\n",
        "        var elapsed = (end - start) / 1_000_000_000\n",
        "        print(String('{} [s]').format(elapsed))\n",
        "\n",
        "        var name = input('file name > ')\n",
        "        var file_name = String('{}.png').format(name)\n",
        "        image.save(file_name)\n",
        "        print(String('{} saved').format(file_name))\n",
        "    except:\n",
        "        sys.exit(1)\n"
      ],
      "metadata": {
        "id": "_WCgoWu4Wbuw"
      },
      "execution_count": null,
      "outputs": []
    },
    {
      "cell_type": "code",
      "source": [
        "!mojo build sd.mojo"
      ],
      "metadata": {
        "id": "xJ9pPOu0PCVl"
      },
      "execution_count": null,
      "outputs": []
    },
    {
      "cell_type": "markdown",
      "source": [
        "### run"
      ],
      "metadata": {
        "id": "5qFg2yekRb_t"
      }
    },
    {
      "cell_type": "code",
      "source": [
        "!./sd"
      ],
      "metadata": {
        "id": "hwogtve0PRd1"
      },
      "execution_count": null,
      "outputs": []
    },
    {
      "cell_type": "markdown",
      "source": [
        "## Python vs Mojo"
      ],
      "metadata": {
        "id": "NlCTJ7LkQ0ZN"
      }
    },
    {
      "cell_type": "markdown",
      "source": [
        "Prompt: `Coffee. Sunlight. A breeze through bossa nova. The world lingers here.`"
      ],
      "metadata": {
        "id": "SxeWP-BrQ3j9"
      }
    },
    {
      "cell_type": "markdown",
      "source": [
        "||Python|Mojo|\n",
        "|:-:|-:|-:|\n",
        "|1|8.987383|8.749698725|\n",
        "|2|9.248939|9.048349062|\n",
        "|3|7.852054|8.657060594|\n",
        "|4|7.934670|8.686166867|\n",
        "|5|7.947472|9.687662112|\n",
        "|6|7.984817|8.594926555|\n",
        "|7|7.825276|9.673236295|\n",
        "|8|7.981634|9.194612269|\n",
        "|9|7.965697|9.547111223|\n",
        "|10|7.819419|9.426520401|"
      ],
      "metadata": {
        "id": "oxV5tRZ6QQxc"
      }
    },
    {
      "cell_type": "code",
      "source": [
        "markdown_table = \"\"\"\n",
        "||Python|Mojo|\n",
        "|:-:|-:|-:|\n",
        "|1|8.987383|8.749698725|\n",
        "|2|9.248939|9.048349062|\n",
        "|3|7.852054|8.657060594|\n",
        "|4|7.934670|8.686166867|\n",
        "|5|7.947472|9.687662112|\n",
        "|6|7.984817|8.594926555|\n",
        "|7|7.825276|9.673236295|\n",
        "|8|7.981634|9.194612269|\n",
        "|9|7.965697|9.547111223|\n",
        "|10|7.819419|9.426520401|\n",
        "\"\"\""
      ],
      "metadata": {
        "id": "awGwFGGTWJUF"
      },
      "execution_count": null,
      "outputs": []
    },
    {
      "cell_type": "code",
      "source": [
        "import pandas as pd\n",
        "import io"
      ],
      "metadata": {
        "id": "Y6e7YompXUDW"
      },
      "execution_count": null,
      "outputs": []
    },
    {
      "cell_type": "code",
      "source": [
        "df = pd.read_csv(io.StringIO(markdown_table), sep='|', skiprows=[0, 1]).dropna(axis=1, how='all').iloc[0:]\n",
        "df.columns = ['Index', 'Python', 'Mojo']\n",
        "df = df.set_index('Index')\n",
        "df = df.apply(pd.to_numeric, errors='coerce')\n",
        "\n",
        "df"
      ],
      "metadata": {
        "id": "60EIxJLWXEFM"
      },
      "execution_count": null,
      "outputs": []
    },
    {
      "cell_type": "code",
      "source": [
        "average_python = df['Python'].mean()\n",
        "average_mojo = df['Mojo'].mean()\n",
        "\n",
        "print(f\"Average Python execution time: {average_python:.6f} [s]\")\n",
        "print(f\"Average Mojo execution time: {average_mojo:.6f} [s]\")"
      ],
      "metadata": {
        "colab": {
          "base_uri": "https://localhost:8080/"
        },
        "id": "ua6XO5zYXfps",
        "outputId": "2ef932aa-6a14-406c-8d2a-233e3e865d71"
      },
      "execution_count": 59,
      "outputs": [
        {
          "output_type": "stream",
          "name": "stdout",
          "text": [
            "Average Python execution time: 8.154736 [s]\n",
            "Average Mojo execution time: 9.126534 [s]\n"
          ]
        }
      ]
    }
  ]
}